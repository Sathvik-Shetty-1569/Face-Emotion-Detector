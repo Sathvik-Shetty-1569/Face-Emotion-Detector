{
 "cells": [
  {
   "cell_type": "code",
   "execution_count": null,
   "id": "413dede9-877b-4510-8307-701f094ed68d",
   "metadata": {},
   "outputs": [],
   "source": []
  }
 ],
 "metadata": {
  "kernelspec": {
   "display_name": "",
   "name": ""
  },
  "language_info": {
   "name": ""
  }
 },
 "nbformat": 4,
 "nbformat_minor": 5
}
